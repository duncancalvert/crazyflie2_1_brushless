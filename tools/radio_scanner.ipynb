{
 "cells": [
  {
   "cell_type": "markdown",
   "id": "91892b64",
   "metadata": {},
   "source": [
    "# Radio Scanner\n",
    "\n",
    "The radio scanner scans for Crazyflie addresses nearby"
   ]
  },
  {
   "cell_type": "code",
   "execution_count": null,
   "id": "1af7fa36",
   "metadata": {},
   "outputs": [
    {
     "name": "stdout",
     "output_type": "stream",
     "text": [
      "Scanning channel 70...\n",
      "Scanning channel 80...\n",
      "radio://0/80/2M \n",
      "radio://0/80/2M \n",
      "radio://0/80/2M \n",
      "radio://0/80/2M \n",
      "Scanning channel 90...\n",
      "Scanning channel 100...\n"
     ]
    }
   ],
   "source": [
    "from cflib.crtp import init_drivers, scan_interfaces\n",
    "init_drivers(enable_debug_driver=False)\n",
    "for ch in [70, 80, 90, 100]:\n",
    "    print(f\"Scanning channel {ch}...\")\n",
    "    for uri, info in scan_interfaces():\n",
    "        if f\"/{ch}/\" in uri:\n",
    "            print(uri, info)"
   ]
  }
 ],
 "metadata": {
  "kernelspec": {
   "display_name": "Python (.venv)",
   "language": "python",
   "name": ".venv"
  },
  "language_info": {
   "codemirror_mode": {
    "name": "ipython",
    "version": 3
   },
   "file_extension": ".py",
   "mimetype": "text/x-python",
   "name": "python",
   "nbconvert_exporter": "python",
   "pygments_lexer": "ipython3",
   "version": "3.13.2"
  }
 },
 "nbformat": 4,
 "nbformat_minor": 5
}
