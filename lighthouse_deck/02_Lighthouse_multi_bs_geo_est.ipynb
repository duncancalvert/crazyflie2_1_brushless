{
 "cells": [
  {
   "cell_type": "markdown",
   "id": "8e0ce478",
   "metadata": {},
   "source": [
    "# 02 - Lighthouse Multi Base Station Geometry Estimation"
   ]
  },
  {
   "cell_type": "code",
   "execution_count": 1,
   "id": "0e9cac55",
   "metadata": {},
   "outputs": [],
   "source": [
    "import logging\n",
    "from threading import Event\n",
    "\n",
    "import cflib.crtp  # noqa\n",
    "from cflib.crazyflie import Crazyflie\n",
    "from cflib.crazyflie.mem import LighthouseMemHelper\n",
    "from cflib.crazyflie.syncCrazyflie import SyncCrazyflie\n",
    "from cflib.utils import uri_helper\n"
   ]
  },
  {
   "cell_type": "code",
   "execution_count": 2,
   "id": "5e9eff55",
   "metadata": {},
   "outputs": [],
   "source": [
    "# Only output errors from the logging framework\n",
    "logging.basicConfig(level=logging.ERROR)"
   ]
  },
  {
   "cell_type": "code",
   "execution_count": 3,
   "id": "9187a9e5",
   "metadata": {},
   "outputs": [],
   "source": [
    "class ReadMem:\n",
    "    def __init__(self, uri):\n",
    "        self._event = Event()\n",
    "\n",
    "        with SyncCrazyflie(uri, cf=Crazyflie(rw_cache='./cache')) as scf:\n",
    "            helper = LighthouseMemHelper(scf.cf)\n",
    "\n",
    "            helper.read_all_geos(self._geo_read_ready)\n",
    "            self._event.wait()\n",
    "\n",
    "            self._event.clear()\n",
    "\n",
    "            helper.read_all_calibs(self._calib_read_ready)\n",
    "            self._event.wait()\n",
    "\n",
    "    def _geo_read_ready(self, geo_data):\n",
    "        for id, data in geo_data.items():\n",
    "            print('---- Geometry for base station', id + 1)\n",
    "            data.dump()\n",
    "            print()\n",
    "        self._event.set()\n",
    "\n",
    "    def _calib_read_ready(self, calib_data):\n",
    "        for id, data in calib_data.items():\n",
    "            print('---- Calibration data for base station', id + 1)\n",
    "            data.dump()\n",
    "            print()\n",
    "        self._event.set()"
   ]
  },
  {
   "cell_type": "code",
   "execution_count": null,
   "id": "909509f9",
   "metadata": {},
   "outputs": [],
   "source": [
    "if __name__ == '__main__':\n",
    "    # URI to the Crazyflie to connect to\n",
    "    uri = uri_helper.uri_from_env(default='radio://0/80/2M/E7E7E7E7E8')\n",
    "\n",
    "    # Initialize the low-level drivers\n",
    "    cflib.crtp.init_drivers()\n",
    "\n",
    "    ReadMem(uri)"
   ]
  },
  {
   "cell_type": "code",
   "execution_count": null,
   "id": "a796e568",
   "metadata": {},
   "outputs": [],
   "source": []
  }
 ],
 "metadata": {
  "kernelspec": {
   "display_name": ".venv",
   "language": "python",
   "name": "python3"
  },
  "language_info": {
   "codemirror_mode": {
    "name": "ipython",
    "version": 3
   },
   "file_extension": ".py",
   "mimetype": "text/x-python",
   "name": "python",
   "nbconvert_exporter": "python",
   "pygments_lexer": "ipython3",
   "version": "3.13.2"
  }
 },
 "nbformat": 4,
 "nbformat_minor": 5
}
