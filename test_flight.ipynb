{
 "cells": [
  {
   "cell_type": "code",
   "execution_count": 2,
   "id": "100c987a",
   "metadata": {},
   "outputs": [
    {
     "ename": "KeyboardInterrupt",
     "evalue": "",
     "output_type": "error",
     "traceback": [
      "\u001b[31m---------------------------------------------------------------------------\u001b[39m",
      "\u001b[31mException\u001b[39m                                 Traceback (most recent call last)",
      "\u001b[36mCell\u001b[39m\u001b[36m \u001b[39m\u001b[32mIn[2]\u001b[39m\u001b[32m, line 23\u001b[39m, in \u001b[36mtake_off_simple\u001b[39m\u001b[34m(scf)\u001b[39m\n\u001b[32m     22\u001b[39m \u001b[38;5;28;01mwith\u001b[39;00m MotionCommander(scf, default_height=DEFAULT_HEIGHT) \u001b[38;5;28;01mas\u001b[39;00m mc:\n\u001b[32m---> \u001b[39m\u001b[32m23\u001b[39m     \u001b[43mmc\u001b[49m\u001b[43m.\u001b[49m\u001b[43mtake_off\u001b[49m\u001b[43m(\u001b[49m\u001b[32;43m3\u001b[39;49m\u001b[43m)\u001b[49m\n\u001b[32m     24\u001b[39m     \u001b[38;5;66;03m# mc.up(0.3)\u001b[39;00m\n",
      "\u001b[36mFile \u001b[39m\u001b[32m~/VS_Code_Repos/crazyflie2_1_brushless/.venv/lib/python3.13/site-packages/cflib/positioning/motion_commander.py:87\u001b[39m, in \u001b[36mMotionCommander.take_off\u001b[39m\u001b[34m(self, height, velocity)\u001b[39m\n\u001b[32m     86\u001b[39m \u001b[38;5;28;01mif\u001b[39;00m \u001b[38;5;28mself\u001b[39m._is_flying:\n\u001b[32m---> \u001b[39m\u001b[32m87\u001b[39m     \u001b[38;5;28;01mraise\u001b[39;00m \u001b[38;5;167;01mException\u001b[39;00m(\u001b[33m'\u001b[39m\u001b[33mAlready flying\u001b[39m\u001b[33m'\u001b[39m)\n\u001b[32m     89\u001b[39m \u001b[38;5;28;01mif\u001b[39;00m \u001b[38;5;129;01mnot\u001b[39;00m \u001b[38;5;28mself\u001b[39m._cf.is_connected():\n",
      "\u001b[31mException\u001b[39m: Already flying",
      "\nDuring handling of the above exception, another exception occurred:\n",
      "\u001b[31mKeyboardInterrupt\u001b[39m                         Traceback (most recent call last)",
      "\u001b[36mCell\u001b[39m\u001b[36m \u001b[39m\u001b[32mIn[2]\u001b[39m\u001b[32m, line 39\u001b[39m\n\u001b[32m     36\u001b[39m scf.cf.platform.send_arming_request(\u001b[38;5;28;01mTrue\u001b[39;00m)\n\u001b[32m     37\u001b[39m time.sleep(\u001b[32m1.0\u001b[39m)\n\u001b[32m---> \u001b[39m\u001b[32m39\u001b[39m \u001b[43mtake_off_simple\u001b[49m\u001b[43m(\u001b[49m\u001b[43mscf\u001b[49m\u001b[43m)\u001b[49m\n",
      "\u001b[36mCell\u001b[39m\u001b[36m \u001b[39m\u001b[32mIn[2]\u001b[39m\u001b[32m, line 22\u001b[39m, in \u001b[36mtake_off_simple\u001b[39m\u001b[34m(scf)\u001b[39m\n\u001b[32m     21\u001b[39m \u001b[38;5;28;01mdef\u001b[39;00m\u001b[38;5;250m \u001b[39m\u001b[34mtake_off_simple\u001b[39m(scf):\n\u001b[32m---> \u001b[39m\u001b[32m22\u001b[39m     \u001b[38;5;28;01mwith\u001b[39;00m MotionCommander(scf, default_height=DEFAULT_HEIGHT) \u001b[38;5;28;01mas\u001b[39;00m mc:\n\u001b[32m     23\u001b[39m         mc.take_off(\u001b[32m3\u001b[39m)\n\u001b[32m     24\u001b[39m         \u001b[38;5;66;03m# mc.up(0.3)\u001b[39;00m\n",
      "\u001b[36mFile \u001b[39m\u001b[32m~/VS_Code_Repos/crazyflie2_1_brushless/.venv/lib/python3.13/site-packages/cflib/positioning/motion_commander.py:130\u001b[39m, in \u001b[36mMotionCommander.__exit__\u001b[39m\u001b[34m(self, exc_type, exc_val, exc_tb)\u001b[39m\n\u001b[32m    129\u001b[39m \u001b[38;5;28;01mdef\u001b[39;00m\u001b[38;5;250m \u001b[39m\u001b[34m__exit__\u001b[39m(\u001b[38;5;28mself\u001b[39m, exc_type, exc_val, exc_tb):\n\u001b[32m--> \u001b[39m\u001b[32m130\u001b[39m     \u001b[38;5;28;43mself\u001b[39;49m\u001b[43m.\u001b[49m\u001b[43mland\u001b[49m\u001b[43m(\u001b[49m\u001b[43m)\u001b[49m\n",
      "\u001b[36mFile \u001b[39m\u001b[32m~/VS_Code_Repos/crazyflie2_1_brushless/.venv/lib/python3.13/site-packages/cflib/positioning/motion_commander.py:114\u001b[39m, in \u001b[36mMotionCommander.land\u001b[39m\u001b[34m(self, velocity)\u001b[39m\n\u001b[32m    104\u001b[39m \u001b[38;5;250m\u001b[39m\u001b[33;03m\"\"\"\u001b[39;00m\n\u001b[32m    105\u001b[39m \u001b[33;03mGo straight down and turn off the motors.\u001b[39;00m\n\u001b[32m    106\u001b[39m \n\u001b[32m   (...)\u001b[39m\u001b[32m    111\u001b[39m \u001b[33;03m:return:\u001b[39;00m\n\u001b[32m    112\u001b[39m \u001b[33;03m\"\"\"\u001b[39;00m\n\u001b[32m    113\u001b[39m \u001b[38;5;28;01mif\u001b[39;00m \u001b[38;5;28mself\u001b[39m._is_flying:\n\u001b[32m--> \u001b[39m\u001b[32m114\u001b[39m     \u001b[38;5;28;43mself\u001b[39;49m\u001b[43m.\u001b[49m\u001b[43mdown\u001b[49m\u001b[43m(\u001b[49m\u001b[38;5;28;43mself\u001b[39;49m\u001b[43m.\u001b[49m\u001b[43m_thread\u001b[49m\u001b[43m.\u001b[49m\u001b[43mget_height\u001b[49m\u001b[43m(\u001b[49m\u001b[43m)\u001b[49m\u001b[43m,\u001b[49m\u001b[43m \u001b[49m\u001b[43mvelocity\u001b[49m\u001b[43m)\u001b[49m\n\u001b[32m    116\u001b[39m     \u001b[38;5;28mself\u001b[39m._thread.stop()\n\u001b[32m    117\u001b[39m     \u001b[38;5;28mself\u001b[39m._thread = \u001b[38;5;28;01mNone\u001b[39;00m\n",
      "\u001b[36mFile \u001b[39m\u001b[32m~/VS_Code_Repos/crazyflie2_1_brushless/.venv/lib/python3.13/site-packages/cflib/positioning/motion_commander.py:190\u001b[39m, in \u001b[36mMotionCommander.down\u001b[39m\u001b[34m(self, distance_m, velocity)\u001b[39m\n\u001b[32m    182\u001b[39m \u001b[38;5;28;01mdef\u001b[39;00m\u001b[38;5;250m \u001b[39m\u001b[34mdown\u001b[39m(\u001b[38;5;28mself\u001b[39m, distance_m, velocity=VELOCITY):\n\u001b[32m    183\u001b[39m \u001b[38;5;250m    \u001b[39m\u001b[33;03m\"\"\"\u001b[39;00m\n\u001b[32m    184\u001b[39m \u001b[33;03m    Go down\u001b[39;00m\n\u001b[32m    185\u001b[39m \n\u001b[32m   (...)\u001b[39m\u001b[32m    188\u001b[39m \u001b[33;03m    :return:\u001b[39;00m\n\u001b[32m    189\u001b[39m \u001b[33;03m    \"\"\"\u001b[39;00m\n\u001b[32m--> \u001b[39m\u001b[32m190\u001b[39m     \u001b[38;5;28;43mself\u001b[39;49m\u001b[43m.\u001b[49m\u001b[43mmove_distance\u001b[49m\u001b[43m(\u001b[49m\u001b[32;43m0.0\u001b[39;49m\u001b[43m,\u001b[49m\u001b[43m \u001b[49m\u001b[32;43m0.0\u001b[39;49m\u001b[43m,\u001b[49m\u001b[43m \u001b[49m\u001b[43m-\u001b[49m\u001b[43mdistance_m\u001b[49m\u001b[43m,\u001b[49m\u001b[43m \u001b[49m\u001b[43mvelocity\u001b[49m\u001b[43m)\u001b[49m\n",
      "\u001b[36mFile \u001b[39m\u001b[32m~/VS_Code_Repos/crazyflie2_1_brushless/.venv/lib/python3.13/site-packages/cflib/positioning/motion_commander.py:276\u001b[39m, in \u001b[36mMotionCommander.move_distance\u001b[39m\u001b[34m(self, distance_x_m, distance_y_m, distance_z_m, velocity)\u001b[39m\n\u001b[32m    273\u001b[39m velocity_z = velocity * distance_z_m / distance\n\u001b[32m    275\u001b[39m \u001b[38;5;28mself\u001b[39m.start_linear_motion(velocity_x, velocity_y, velocity_z)\n\u001b[32m--> \u001b[39m\u001b[32m276\u001b[39m \u001b[43mtime\u001b[49m\u001b[43m.\u001b[49m\u001b[43msleep\u001b[49m\u001b[43m(\u001b[49m\u001b[43mflight_time\u001b[49m\u001b[43m)\u001b[49m\n\u001b[32m    277\u001b[39m \u001b[38;5;28mself\u001b[39m.stop()\n",
      "\u001b[31mKeyboardInterrupt\u001b[39m: "
     ]
    }
   ],
   "source": [
    "\n",
    "import logging\n",
    "import sys\n",
    "import time\n",
    "from threading import Event\n",
    "import cflib.crtp\n",
    "from cflib.crazyflie import Crazyflie\n",
    "from cflib.crazyflie.log import LogConfig\n",
    "from cflib.crazyflie.syncCrazyflie import SyncCrazyflie\n",
    "from cflib.positioning.motion_commander import MotionCommander\n",
    "from cflib.utils import uri_helper\n",
    "\n",
    "\n",
    "URI = uri_helper.uri_from_env(default='radio://0/80/2M/E7E7E7E7E8')\n",
    "\n",
    "\n",
    "DEFAULT_HEIGHT = 1.0\n",
    "BOX_LIMIT = 0.5\n",
    "# deck_attached_event = Event()\n",
    "\n",
    "\n",
    "def take_off_simple(scf):\n",
    "    with MotionCommander(scf, default_height=DEFAULT_HEIGHT) as mc:\n",
    "        mc.take_off(3)\n",
    "        # mc.up(0.3)\n",
    "        time.sleep(3)\n",
    "        mc.stop()\n",
    "\n",
    "cflib.crtp.init_drivers()\n",
    "with SyncCrazyflie(URI, cf=Crazyflie(rw_cache='./cache')) as scf:\n",
    "\n",
    "    # scf.cf.param.add_update_callback(group='deck', name='bcFlow2',\n",
    "    #                                  cb=param_deck_flow)\n",
    "    # time.sleep(1)\n",
    "\n",
    "    # Arm the Crazyflie\n",
    "    scf.cf.platform.send_arming_request(True)\n",
    "    time.sleep(1.0)\n",
    "\n",
    "    take_off_simple(scf)\n"
   ]
  },
  {
   "cell_type": "code",
   "execution_count": null,
   "id": "230bb450",
   "metadata": {},
   "outputs": [],
   "source": []
  }
 ],
 "metadata": {
  "kernelspec": {
   "display_name": ".venv",
   "language": "python",
   "name": "python3"
  },
  "language_info": {
   "codemirror_mode": {
    "name": "ipython",
    "version": 3
   },
   "file_extension": ".py",
   "mimetype": "text/x-python",
   "name": "python",
   "nbconvert_exporter": "python",
   "pygments_lexer": "ipython3",
   "version": "3.13.2"
  }
 },
 "nbformat": 4,
 "nbformat_minor": 5
}
