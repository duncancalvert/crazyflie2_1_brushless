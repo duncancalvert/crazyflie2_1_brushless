{
 "cells": [
  {
   "cell_type": "code",
   "execution_count": 1,
   "metadata": {},
   "outputs": [
    {
     "name": "stderr",
     "output_type": "stream",
     "text": [
      "INFO:cflib.crazyflie:Callback->Connection initialized[udp://192.168.4.1:5000]\n",
      "ERROR:cflib.crazyflie:Couldn't load link driver: [Errno 56] Socket is already connected\n",
      "\n",
      "Traceback (most recent call last):\n",
      "  File \"/Users/attis/VS_Code_Repos/crazyflie2_1_brushless/.venv/lib/python3.13/site-packages/cflib/crazyflie/__init__.py\", line 248, in open_link\n",
      "    self.link = cflib.crtp.get_link_driver(\n",
      "                ~~~~~~~~~~~~~~~~~~~~~~~~~~^\n",
      "        link_uri, self.link_statistics.radio_link_statistics_callback, self._link_error_cb)\n",
      "        ^^^^^^^^^^^^^^^^^^^^^^^^^^^^^^^^^^^^^^^^^^^^^^^^^^^^^^^^^^^^^^^^^^^^^^^^^^^^^^^^^^^\n",
      "  File \"/Users/attis/VS_Code_Repos/crazyflie2_1_brushless/.venv/lib/python3.13/site-packages/cflib/crtp/__init__.py\", line 99, in get_link_driver\n",
      "    instance.connect(uri, radio_link_statistics_callback, link_error_callback)\n",
      "    ~~~~~~~~~~~~~~~~^^^^^^^^^^^^^^^^^^^^^^^^^^^^^^^^^^^^^^^^^^^^^^^^^^^^^^^^^^\n",
      "  File \"/Users/attis/VS_Code_Repos/crazyflie2_1_brushless/.venv/lib/python3.13/site-packages/cflib/crtp/udpdriver.py\", line 57, in connect\n",
      "    self.socket.sendto('\\xFF\\x01\\x01\\x01'.encode(), self.addr)\n",
      "    ~~~~~~~~~~~~~~~~~~^^^^^^^^^^^^^^^^^^^^^^^^^^^^^^^^^^^^^^^^\n",
      "OSError: [Errno 56] Socket is already connected\n",
      "\n",
      "INFO:cflib.crazyflie:Callback->Connected failed to [udp://192.168.4.1:5000]: Couldn't load link driver: [Errno 56] Socket is already connected\n",
      "\n",
      "Traceback (most recent call last):\n",
      "  File \"/Users/attis/VS_Code_Repos/crazyflie2_1_brushless/.venv/lib/python3.13/site-packages/cflib/crazyflie/__init__.py\", line 248, in open_link\n",
      "    self.link = cflib.crtp.get_link_driver(\n",
      "                ~~~~~~~~~~~~~~~~~~~~~~~~~~^\n",
      "        link_uri, self.link_statistics.radio_link_statistics_callback, self._link_error_cb)\n",
      "        ^^^^^^^^^^^^^^^^^^^^^^^^^^^^^^^^^^^^^^^^^^^^^^^^^^^^^^^^^^^^^^^^^^^^^^^^^^^^^^^^^^^\n",
      "  File \"/Users/attis/VS_Code_Repos/crazyflie2_1_brushless/.venv/lib/python3.13/site-packages/cflib/crtp/__init__.py\", line 99, in get_link_driver\n",
      "    instance.connect(uri, radio_link_statistics_callback, link_error_callback)\n",
      "    ~~~~~~~~~~~~~~~~^^^^^^^^^^^^^^^^^^^^^^^^^^^^^^^^^^^^^^^^^^^^^^^^^^^^^^^^^^\n",
      "  File \"/Users/attis/VS_Code_Repos/crazyflie2_1_brushless/.venv/lib/python3.13/site-packages/cflib/crtp/udpdriver.py\", line 57, in connect\n",
      "    self.socket.sendto('\\xFF\\x01\\x01\\x01'.encode(), self.addr)\n",
      "    ~~~~~~~~~~~~~~~~~~^^^^^^^^^^^^^^^^^^^^^^^^^^^^^^^^^^^^^^^^\n",
      "OSError: [Errno 56] Socket is already connected\n",
      "\n"
     ]
    },
    {
     "name": "stdout",
     "output_type": "stream",
     "text": [
      "❌ Connection failed: Couldn't load link driver: [Errno 56] Socket is already connected\n",
      "\n",
      "Traceback (most recent call last):\n",
      "  File \"/Users/attis/VS_Code_Repos/crazyflie2_1_brushless/.venv/lib/python3.13/site-packages/cflib/crazyflie/__init__.py\", line 248, in open_link\n",
      "    self.link = cflib.crtp.get_link_driver(\n",
      "                ~~~~~~~~~~~~~~~~~~~~~~~~~~^\n",
      "        link_uri, self.link_statistics.radio_link_statistics_callback, self._link_error_cb)\n",
      "        ^^^^^^^^^^^^^^^^^^^^^^^^^^^^^^^^^^^^^^^^^^^^^^^^^^^^^^^^^^^^^^^^^^^^^^^^^^^^^^^^^^^\n",
      "  File \"/Users/attis/VS_Code_Repos/crazyflie2_1_brushless/.venv/lib/python3.13/site-packages/cflib/crtp/__init__.py\", line 99, in get_link_driver\n",
      "    instance.connect(uri, radio_link_statistics_callback, link_error_callback)\n",
      "    ~~~~~~~~~~~~~~~~^^^^^^^^^^^^^^^^^^^^^^^^^^^^^^^^^^^^^^^^^^^^^^^^^^^^^^^^^^\n",
      "  File \"/Users/attis/VS_Code_Repos/crazyflie2_1_brushless/.venv/lib/python3.13/site-packages/cflib/crtp/udpdriver.py\", line 57, in connect\n",
      "    self.socket.sendto('\\xFF\\x01\\x01\\x01'.encode(), self.addr)\n",
      "    ~~~~~~~~~~~~~~~~~~^^^^^^^^^^^^^^^^^^^^^^^^^^^^^^^^^^^^^^^^\n",
      "OSError: [Errno 56] Socket is already connected\n",
      "\n"
     ]
    }
   ],
   "source": [
    "import logging\n",
    "import cflib.crtp\n",
    "from cflib.crazyflie import Crazyflie\n",
    "from cflib.crazyflie.syncCrazyflie import SyncCrazyflie\n",
    "\n",
    "logging.basicConfig(level=logging.INFO)\n",
    "\n",
    "URI = 'udp://192.168.4.1:5000'\n",
    "\n",
    "cflib.crtp.init_drivers()\n",
    "\n",
    "cf = Crazyflie(rw_cache='./cache')\n",
    "\n",
    "try:\n",
    "    with SyncCrazyflie(URI, cf) as scf:\n",
    "        print(\"✅ Connected successfully!\")\n",
    "except Exception as e:\n",
    "    print(\"❌ Connection failed:\", e)"
   ]
  },
  {
   "cell_type": "code",
   "execution_count": null,
   "metadata": {},
   "outputs": [],
   "source": []
  }
 ],
 "metadata": {
  "kernelspec": {
   "display_name": ".venv",
   "language": "python",
   "name": "python3"
  },
  "language_info": {
   "codemirror_mode": {
    "name": "ipython",
    "version": 3
   },
   "file_extension": ".py",
   "mimetype": "text/x-python",
   "name": "python",
   "nbconvert_exporter": "python",
   "pygments_lexer": "ipython3",
   "version": "3.13.2"
  }
 },
 "nbformat": 4,
 "nbformat_minor": 2
}
