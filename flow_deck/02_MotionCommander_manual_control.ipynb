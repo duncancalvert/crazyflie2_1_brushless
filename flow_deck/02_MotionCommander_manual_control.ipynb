{
 "cells": [
  {
   "cell_type": "markdown",
   "id": "b3187c55",
   "metadata": {},
   "source": [
    "# MotionCommander Manual Control\n",
    "\n",
    "This tutorial notebook let's you use manually steer your drone using Bitcraze's MotionCommander library. MotionCommander is an abstraction library that makes writing Crazyflie movement scripts easy. \n",
    "\n",
    "MotionCommander requires some sort of positioning hardware support such as the Flow deck. The library does not have a notion of absolute position (such as GPS) and instead uses velocity setpoints. Due to this, the error in position will accumulate over time.\n",
    "\n",
    "The API contains a set of primitives that are easy to understand and use, such as “go forward” or “turn around”.\n",
    "\n",
    "There are two flavors of primitives:\n",
    "1. Actions that are blocking and return when a motion is completed\n",
    "2. Actions that starts a motion and return immediately\n",
    "\n",
    "In the second variation the user has to stop or change the motion when appropriate by issuing new commands.\n",
    "\n",
    "The MotionCommander can be used as context manager using the with keyword. In this mode of operation takeoff and landing is executed when the context is created/closed.\n",
    "\n",
    "Reference Documentation: \n",
    "* [Step-by-Step: Motion Commander](https://www.bitcraze.io/documentation/repository/crazyflie-lib-python/master/user-guides/sbs_motion_commander/)\n",
    "* [MotionCommander GitHub](https://github.com/bitcraze/crazyflie-lib-python/blob/master/examples/step-by-step/sbs_motion_commander.py)\n"
   ]
  },
  {
   "cell_type": "markdown",
   "id": "3bb2a29a",
   "metadata": {},
   "source": [
    "## Imports"
   ]
  },
  {
   "cell_type": "code",
   "execution_count": 1,
   "id": "9319bd3d",
   "metadata": {},
   "outputs": [],
   "source": [
    "# Standard imports\n",
    "import logging\n",
    "import sys\n",
    "import time\n",
    "from threading import Event\n",
    "from pynput import keyboard\n",
    "from dotenv import load_dotenv\n",
    "import os\n",
    "\n",
    "# Crazyflie imports\n",
    "import cflib.crtp\n",
    "from cflib.crazyflie import Crazyflie\n",
    "from cflib.crazyflie.log import LogConfig\n",
    "from cflib.crazyflie.syncCrazyflie import SyncCrazyflie\n",
    "from cflib.positioning.motion_commander import MotionCommander\n",
    "from cflib.utils import uri_helper"
   ]
  },
  {
   "cell_type": "markdown",
   "id": "b8577f4d",
   "metadata": {},
   "source": [
    "### Global Variables & Configs"
   ]
  },
  {
   "cell_type": "code",
   "execution_count": 2,
   "id": "100c987a",
   "metadata": {},
   "outputs": [],
   "source": [
    "load_dotenv()  # take environment variables from .env\n",
    "\n",
    "# Your radio frequency. This can be found in the Crazyflie client by running \"cfclient\" in your terminal.\n",
    "URI = uri_helper.uri_from_env(default=os.getenv(\"RADIO_URI\"))\n",
    "\n",
    "# --- Global variables\n",
    "DEFAULT_HEIGHT = 1.0\n",
    "BOX_LIMIT = 0.5\n",
    "\n",
    "# Event to signal that the flow deck is attached\n",
    "deck_attached_event = Event()\n",
    "\n",
    "# Variable to store the (x, y) position estimates used by the logger\n",
    "position_estimate = [0, 0]\n",
    "\n",
    "# Only output errors from the logging framework\n",
    "logging.basicConfig(level=logging.ERROR)\n",
    "\n",
    "cf = None\n",
    "mc = None\n",
    "flying = False\n",
    "\n",
    "# Movement speed (m/s)\n",
    "SPEED = 0.2"
   ]
  },
  {
   "cell_type": "code",
   "execution_count": 10,
   "id": "a4188b56",
   "metadata": {},
   "outputs": [],
   "source": [
    "def toggle_takeoff_land():\n",
    "    \"\"\"Toggle between takeoff and land safely.\"\"\"\n",
    "    global flying, mc\n",
    "    if not flying:\n",
    "        print(\"Taking off...\")\n",
    "        try:\n",
    "            mc.take_off(0.5, 2.0)   # 0.5 m altitude, 2s duration\n",
    "            flying = True\n",
    "        except Exception as e:\n",
    "            print(f\"[WARN] Takeoff failed: {e}\")\n",
    "    else:\n",
    "        print(\"Landing...\")\n",
    "        try:\n",
    "            mc.land(0.0, 2.0)       # land smoothly in 2s\n",
    "            flying = False\n",
    "        except Exception as e:\n",
    "            print(f\"[WARN] Landing failed: {e}\")\n",
    "\n",
    "\n",
    "def on_press(key):\n",
    "    global mc, flying\n",
    "    if hasattr(key, \"char\") and key.char is not None:\n",
    "        c = key.char.lower()\n",
    "        if c == 'w' and flying:\n",
    "            mc.start_forward(SPEED)\n",
    "        elif c == 's' and flying:\n",
    "            mc.start_back(SPEED)\n",
    "        elif c == 'a' and flying:\n",
    "            mc.start_left(SPEED)\n",
    "        elif c == 'd' and flying:\n",
    "            mc.start_right(SPEED)\n",
    "    else:\n",
    "        if key == keyboard.Key.space:\n",
    "            toggle_takeoff_land()\n",
    "        elif key == keyboard.Key.esc:\n",
    "            print(\"Emergency exit!\")\n",
    "            return False\n",
    "\n",
    "\n",
    "def on_release(key):\n",
    "    global mc, flying\n",
    "    if hasattr(key, \"char\") and key.char is not None and flying:\n",
    "        if key.char.lower() in ['w', 'a', 's', 'd']:\n",
    "            mc.stop()\n",
    "\n",
    "\n",
    "def main():\n",
    "    global cf, mc, flying\n",
    "    # Initialize drivers\n",
    "    cflib.crtp.init_drivers()\n",
    "\n",
    "    cf = Crazyflie(rw_cache='./cache')\n",
    "    with SyncCrazyflie(URI, cf=cf) as scf:\n",
    "        # Prevent MotionCommander from auto-takeoff\n",
    "        with MotionCommander(scf, takeoff=False) as commander:\n",
    "            mc = MotionCommander(scf, default_height=0.3)\n",
    "            flying = False\n",
    "            print(\"Connected to Crazyflie.\")\n",
    "            print(\"Press SPACE to takeoff/land, WASD to move, ESC to quit.\")\n",
    "\n",
    "            # Start keyboard listener\n",
    "            with keyboard.Listener(on_press=on_press, on_release=on_release) as listener:\n",
    "                listener.join()\n",
    "\n",
    "            # Ensure safe land if script exits while flying\n",
    "            if flying:\n",
    "                print(\"Landing before exit...\")\n",
    "                mc.land()\n"
   ]
  },
  {
   "cell_type": "code",
   "execution_count": 11,
   "id": "f0f0565f",
   "metadata": {},
   "outputs": [
    {
     "ename": "TypeError",
     "evalue": "MotionCommander.__init__() got an unexpected keyword argument 'takeoff'",
     "output_type": "error",
     "traceback": [
      "\u001b[31m---------------------------------------------------------------------------\u001b[39m",
      "\u001b[31mTypeError\u001b[39m                                 Traceback (most recent call last)",
      "\u001b[36mCell\u001b[39m\u001b[36m \u001b[39m\u001b[32mIn[11]\u001b[39m\u001b[32m, line 3\u001b[39m\n\u001b[32m      1\u001b[39m \u001b[38;5;28;01mif\u001b[39;00m \u001b[34m__name__\u001b[39m == \u001b[33m'\u001b[39m\u001b[33m__main__\u001b[39m\u001b[33m'\u001b[39m:\n\u001b[32m      2\u001b[39m     \u001b[38;5;28;01mfrom\u001b[39;00m\u001b[38;5;250m \u001b[39m\u001b[34;01mcflib\u001b[39;00m\u001b[34;01m.\u001b[39;00m\u001b[34;01mcrazyflie\u001b[39;00m\u001b[34;01m.\u001b[39;00m\u001b[34;01msyncCrazyflie\u001b[39;00m\u001b[38;5;250m \u001b[39m\u001b[38;5;28;01mimport\u001b[39;00m SyncCrazyflie\n\u001b[32m----> \u001b[39m\u001b[32m3\u001b[39m     \u001b[43mmain\u001b[49m\u001b[43m(\u001b[49m\u001b[43m)\u001b[49m\n",
      "\u001b[36mCell\u001b[39m\u001b[36m \u001b[39m\u001b[32mIn[10]\u001b[39m\u001b[32m, line 55\u001b[39m, in \u001b[36mmain\u001b[39m\u001b[34m()\u001b[39m\n\u001b[32m     52\u001b[39m cf = Crazyflie(rw_cache=\u001b[33m'\u001b[39m\u001b[33m./cache\u001b[39m\u001b[33m'\u001b[39m)\n\u001b[32m     53\u001b[39m \u001b[38;5;28;01mwith\u001b[39;00m SyncCrazyflie(URI, cf=cf) \u001b[38;5;28;01mas\u001b[39;00m scf:\n\u001b[32m     54\u001b[39m     \u001b[38;5;66;03m# Prevent MotionCommander from auto-takeoff\u001b[39;00m\n\u001b[32m---> \u001b[39m\u001b[32m55\u001b[39m     \u001b[38;5;28;01mwith\u001b[39;00m \u001b[43mMotionCommander\u001b[49m\u001b[43m(\u001b[49m\u001b[43mscf\u001b[49m\u001b[43m,\u001b[49m\u001b[43m \u001b[49m\u001b[43mtakeoff\u001b[49m\u001b[43m=\u001b[49m\u001b[38;5;28;43;01mFalse\u001b[39;49;00m\u001b[43m)\u001b[49m \u001b[38;5;28;01mas\u001b[39;00m commander:\n\u001b[32m     56\u001b[39m         mc = MotionCommander(scf, default_height=\u001b[32m0.3\u001b[39m)\n\u001b[32m     57\u001b[39m         flying = \u001b[38;5;28;01mFalse\u001b[39;00m\n",
      "\u001b[31mTypeError\u001b[39m: MotionCommander.__init__() got an unexpected keyword argument 'takeoff'"
     ]
    }
   ],
   "source": [
    "if __name__ == '__main__':\n",
    "    from cflib.crazyflie.syncCrazyflie import SyncCrazyflie\n",
    "    main()"
   ]
  },
  {
   "cell_type": "code",
   "execution_count": null,
   "id": "33cbd99c",
   "metadata": {},
   "outputs": [],
   "source": []
  }
 ],
 "metadata": {
  "kernelspec": {
   "display_name": ".venv",
   "language": "python",
   "name": "python3"
  },
  "language_info": {
   "codemirror_mode": {
    "name": "ipython",
    "version": 3
   },
   "file_extension": ".py",
   "mimetype": "text/x-python",
   "name": "python",
   "nbconvert_exporter": "python",
   "pygments_lexer": "ipython3",
   "version": "3.13.2"
  }
 },
 "nbformat": 4,
 "nbformat_minor": 5
}
