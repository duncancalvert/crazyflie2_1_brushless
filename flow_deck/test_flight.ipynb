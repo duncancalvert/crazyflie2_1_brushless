{
 "cells": [
  {
   "cell_type": "code",
   "execution_count": null,
   "id": "100c987a",
   "metadata": {},
   "outputs": [],
   "source": [
    "\n",
    "import time\n",
    "from threading import Event\n",
    "import cflib.crtp\n",
    "from cflib.crazyflie import Crazyflie\n",
    "from cflib.crazyflie.log import LogConfig\n",
    "from cflib.crazyflie.syncCrazyflie import SyncCrazyflie\n",
    "from cflib.positioning.motion_commander import MotionCommander\n",
    "from cflib.utils import uri_helper\n",
    "\n",
    "\n",
    "URI = uri_helper.uri_from_env(default='radio://0/80/2M/E7E7E7E7E8')\n",
    "\n",
    "\n",
    "DEFAULT_HEIGHT = 1.0\n",
    "BOX_LIMIT = 0.5\n",
    "# deck_attached_event = Event()\n",
    "\n",
    "\n",
    "def take_off_simple(scf):\n",
    "    with MotionCommander(scf, default_height=DEFAULT_HEIGHT) as mc:\n",
    "        mc.take_off(3)\n",
    "        # mc.up(0.3)\n",
    "        time.sleep(3)\n",
    "        mc.stop()\n",
    "\n",
    "cflib.crtp.init_drivers()\n",
    "with SyncCrazyflie(URI, cf=Crazyflie(rw_cache='./cache')) as scf:\n",
    "\n",
    "    # scf.cf.param.add_update_callback(group='deck', name='bcFlow2',\n",
    "    #                                  cb=param_deck_flow)\n",
    "    # time.sleep(1)\n",
    "\n",
    "    # Arm the Crazyflie\n",
    "    scf.cf.platform.send_arming_request(True)\n",
    "    time.sleep(1.0)\n",
    "\n",
    "    take_off_simple(scf)\n"
   ]
  },
  {
   "cell_type": "code",
   "execution_count": null,
   "id": "230bb450",
   "metadata": {},
   "outputs": [],
   "source": []
  }
 ],
 "metadata": {
  "kernelspec": {
   "display_name": ".venv",
   "language": "python",
   "name": "python3"
  },
  "language_info": {
   "codemirror_mode": {
    "name": "ipython",
    "version": 3
   },
   "file_extension": ".py",
   "mimetype": "text/x-python",
   "name": "python",
   "nbconvert_exporter": "python",
   "pygments_lexer": "ipython3",
   "version": "3.13.2"
  }
 },
 "nbformat": 4,
 "nbformat_minor": 5
}
