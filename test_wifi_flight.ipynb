{
 "cells": [
  {
   "cell_type": "code",
   "execution_count": null,
   "metadata": {},
   "outputs": [],
   "source": [
    "import logging\n",
    "import cflib.crtp\n",
    "from cflib.crazyflie import Crazyflie\n",
    "from cflib.crazyflie.syncCrazyflie import SyncCrazyflie\n",
    "\n",
    "URI = 'udp://192.168.4.1:5000'\n",
    "\n",
    "cflib.crtp.init_drivers()\n",
    "\n",
    "cf = Crazyflie(rw_cache='./cache')\n",
    "\n",
    "try:\n",
    "    with SyncCrazyflie(URI, cf) as scf:\n",
    "        print(\"✅ Connected successfully!\")\n",
    "except Exception as e:\n",
    "    print(\"❌ Connection failed:\", e)"
   ]
  }
 ],
 "metadata": {
  "kernelspec": {
   "display_name": ".venv",
   "language": "python",
   "name": "python3"
  },
  "language_info": {
   "codemirror_mode": {
    "name": "ipython",
    "version": 3
   },
   "file_extension": ".py",
   "mimetype": "text/x-python",
   "name": "python",
   "nbconvert_exporter": "python",
   "pygments_lexer": "ipython3",
   "version": "3.13.2"
  }
 },
 "nbformat": 4,
 "nbformat_minor": 2
}
